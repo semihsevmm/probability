{
  "nbformat": 4,
  "nbformat_minor": 0,
  "metadata": {
    "colab": {
      "name": "ödev_1.ipynb",
      "provenance": [],
      "collapsed_sections": [],
      "authorship_tag": "ABX9TyPy+Y0OsHm54MEVEDR8nb+i",
      "include_colab_link": true
    },
    "kernelspec": {
      "name": "python3",
      "display_name": "Python 3"
    }
  },
  "cells": [
    {
      "cell_type": "markdown",
      "metadata": {
        "id": "view-in-github",
        "colab_type": "text"
      },
      "source": [
        "<a href=\"https://colab.research.google.com/github/semihsevmm/probability/blob/master/%C3%B6dev_1.ipynb\" target=\"_parent\"><img src=\"https://colab.research.google.com/assets/colab-badge.svg\" alt=\"Open In Colab\"/></a>"
      ]
    },
    {
      "cell_type": "markdown",
      "metadata": {
        "id": "uIsUBh8v1-5m",
        "colab_type": "text"
      },
      "source": [
        "$({n_1,n_2,n_3,...})$ sayıda tekrarlı eleman içeren  n elemanlı bir kümenin sıralanması;\n",
        "\n",
        "$\\frac{n!}{n_1!n_2!n_3!...}$\n",
        "\n",
        "formülü ile hesaplanır.\n",
        "\n",
        "Örnek: Alabalık kelimesinin harflerinden anlamlı veya anlamsız kaç farklı kelime türetilebilir.\n",
        "\n",
        "$a=3$\\\n",
        "$l=2$\\\n",
        "$b=1$\\\n",
        "$ı=1$\\\n",
        "$k=1$\\\n",
        "$Toplam=8$\n",
        "\n",
        "\n",
        " 8 harli \"Alabalık\" içerisinde a harfi 3, l harfi 2 kere tekrar etmektedir. Bu koşullar altında türetilebilecek kelime sayısı;\n",
        "\n",
        "$\\frac{8!}{3!2!}=3360$\n",
        "\n",
        "olarak bulunur."
      ]
    },
    {
      "cell_type": "code",
      "metadata": {
        "id": "z81qEARQ427z",
        "colab_type": "code",
        "outputId": "30c52c42-0366-458c-dcb6-e17557f8be79",
        "colab": {
          "base_uri": "https://localhost:8080/",
          "height": 51
        }
      },
      "source": [
        "# Program girilen bir kelime için, içerdiği harflerden oluşabilecek anlamlı veya anlamsız tüm katar sayısını vermektedir.\n",
        "# Girilen kelime bir karakteri birden fazla içeriyorsa tekrarlı permütasyonu hesaplayarak sonuç bulunur.\n",
        "\n",
        "from pylab import *\n",
        "import numpy as np\n",
        "\n",
        "def factorial(n):\n",
        "  p = 1\n",
        "  for i in range(n):\n",
        "    p = p * (i+1)\n",
        "  return p\n",
        "\n",
        "def kelimeSayisi(kelime):\n",
        "  harfSayisi = dict()\n",
        "  kelime = kelime.lower()\n",
        "  #For döngüsü ile birlikte tekararlanan karakterlerin sayısı bir dict içerisinde tutulur.\n",
        "  for h in kelime:\n",
        "    if h in harfSayisi:\n",
        "      harfSayisi[h] = harfSayisi[h] + 1\n",
        "    else:\n",
        "      harfSayisi[h] = 1\n",
        "  #Kelime uzunluğunun faktöriyeli hesaplanır.\n",
        "  p = factorial(len(kelime))\n",
        "  \n",
        "  #For döngüsü içerisinde kelime uzunluğunun fakötriyeli tekrar eden karakter sayılarının faktöriyeline bölünür.\n",
        "  for key in harfSayisi:\n",
        "    if harfSayisi[key] == 1:\n",
        "      continue\n",
        "    p = p / factorial(harfSayisi[key])\n",
        "  return int(p)\n",
        "\n",
        "kelime = input(\"Bir kelime giriniz: \")\n",
        "print(kelime, \" kelimesinin içerdiği harflerle \", kelimeSayisi(kelime) , \"farklı kelime yazılabililr.\")\n"
      ],
      "execution_count": 0,
      "outputs": [
        {
          "output_type": "stream",
          "text": [
            "Bir kelime giriniz: Alabalık\n",
            "Alabalık  kelimesinin içerdiği harflerle  3360 farklı kelime yazılabililr.\n"
          ],
          "name": "stdout"
        }
      ]
    },
    {
      "cell_type": "code",
      "metadata": {
        "id": "GvfP_FmP5FXB",
        "colab_type": "code",
        "colab": {}
      },
      "source": [
        ""
      ],
      "execution_count": 0,
      "outputs": []
    }
  ]
}