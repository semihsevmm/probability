{
  "nbformat": 4,
  "nbformat_minor": 0,
  "metadata": {
    "colab": {
      "name": "ödev_2.ipynb",
      "provenance": [],
      "collapsed_sections": [],
      "include_colab_link": true
    },
    "kernelspec": {
      "name": "python3",
      "display_name": "Python 3"
    }
  },
  "cells": [
    {
      "cell_type": "markdown",
      "metadata": {
        "id": "view-in-github",
        "colab_type": "text"
      },
      "source": [
        "<a href=\"https://colab.research.google.com/github/semihsevmm/probability/blob/master/%C3%B6dev_2.ipynb\" target=\"_parent\"><img src=\"https://colab.research.google.com/assets/colab-badge.svg\" alt=\"Open In Colab\"/></a>"
      ]
    },
    {
      "cell_type": "markdown",
      "metadata": {
        "id": "QQesj1kvKU3-",
        "colab_type": "text"
      },
      "source": [
        "Semih Sevim\n",
        "196112005\n",
        "\n",
        "**Problem:** Ali ve Ahmet kendi aralarında bir oyun oynamaya karar verirler ve Ahmet 30 küçük kağıda sorular yazıp bir torbaya koyar. Ahmet hazırladığı 30 sorunun 10 tanesini Ali'nin cevap verebileceği konular üzerine seçer. Daha sonra Ahmet Ali'den kağıtlardan rastegele seçtiği 3 soruya cevap vermesini ister. Doğru bildiği sorular için 2'şer puan kazanacağını, cevap vermediği her soru için ise puanından 1 puan düşeceğini söyler. Bu durumda Ali'nin en az 0 puan alması  olasılığı kaçtır?\n",
        "\n",
        "\n",
        "---\n",
        "\n",
        "\n",
        "\n",
        "**Çözüm:** Ali için oyunun sonucu 4 şekilde sonuçlanır;\n",
        "\n",
        "\n",
        "*   Hiçbir soruyu bilemezse puanı -3'e düşer.\n",
        "*   Bir soruyu bilip iki soruya cevap vermezse puanı 0 olur.\n",
        "*   İki soruyu bilip bir soruya cevap veremezse puanı 3 olur.\n",
        "*   Tüm soruları cevaplarsa toplam 6 puan alır. \n",
        "\n",
        "Ali'nin puanın -3 olması için hiçbir soruya cevap vermemesi gerekir. Bu durumun gerçekleşmesi için Ali torbadan bilmediği konularla ilgili sorular çekmelidir. Ali'nin -3 puan alması olasılığı $P(y)$ ile gösterilirse, Ali'nin en az 0 puan alması olasığı $P(d) = 1-P(y)$ olur.\n",
        "\n",
        "$ P(y) = \\frac{C(20,3)}{C(30,3)} = 0.280788$\n",
        "\n",
        "$ P(d) = 0.719212$"
      ]
    },
    {
      "cell_type": "code",
      "metadata": {
        "id": "fR4uDfLDKQDL",
        "colab_type": "code",
        "outputId": "3004c1d1-4248-4540-a785-fb9fa61760ce",
        "colab": {
          "base_uri": "https://localhost:8080/",
          "height": 34
        }
      },
      "source": [
        "def fact(n):\n",
        "  sonuc = 1\n",
        "  for i in range(1,n+1):\n",
        "    sonuc = sonuc * i\n",
        "  return sonuc\n",
        "\n",
        "def kombinasyon(n,r):\n",
        "  return fact(n) / (fact(r)*fact(n-r))\n",
        "\n",
        "# Soru sayısı = 30\n",
        "# Bilinebilecek soru sayısı = 10\n",
        "# Torbadan seçilecek soru sayısı = 3\n",
        "\n",
        "soru = 30\n",
        "bilinen = 10\n",
        "secilen = 3\n",
        "\n",
        "#-3 puan alma olasılığı P(y)\n",
        "\n",
        "p_y = kombinasyon(soru-bilinen, secilen) / kombinasyon(soru, secilen) \n",
        "\n",
        "# En az sıfır puan alma olasılığı P(d) = 1 - P(y)\n",
        "\n",
        "p_d = 1 - p_y\n",
        "\n",
        "print(\"Ali\\'nin en az 0 puan alma olasığı = %.6f\"%p_d)"
      ],
      "execution_count": 0,
      "outputs": [
        {
          "output_type": "stream",
          "text": [
            "Ali'nin en az 0 puan alma olasığı = 0.719212\n"
          ],
          "name": "stdout"
        }
      ]
    },
    {
      "cell_type": "code",
      "metadata": {
        "id": "zqUTBUfbdfuZ",
        "colab_type": "code",
        "colab": {}
      },
      "source": [
        ""
      ],
      "execution_count": 0,
      "outputs": []
    }
  ]
}