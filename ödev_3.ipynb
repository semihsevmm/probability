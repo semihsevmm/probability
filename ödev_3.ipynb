{
  "nbformat": 4,
  "nbformat_minor": 0,
  "metadata": {
    "colab": {
      "name": "ödev_3.ipynb",
      "provenance": [],
      "collapsed_sections": [],
      "authorship_tag": "ABX9TyMEPHEMO3wmivIJL6jaS0ic",
      "include_colab_link": true
    },
    "kernelspec": {
      "name": "python3",
      "display_name": "Python 3"
    }
  },
  "cells": [
    {
      "cell_type": "markdown",
      "metadata": {
        "id": "view-in-github",
        "colab_type": "text"
      },
      "source": [
        "<a href=\"https://colab.research.google.com/github/semihsevmm/probability/blob/master/%C3%B6dev_3.ipynb\" target=\"_parent\"><img src=\"https://colab.research.google.com/assets/colab-badge.svg\" alt=\"Open In Colab\"/></a>"
      ]
    },
    {
      "cell_type": "markdown",
      "metadata": {
        "id": "8b3jU0hLRvVp",
        "colab_type": "text"
      },
      "source": [
        "**Semih SEVİM 196112005**\n",
        "\n",
        "**Problem:** Sinyal iletiminde kanal üzerinde belirli bir gürültünün olduğu ve bitlerin $\\dfrac{1}{4}$ olasılıkla değiştiği bilinmektedir.  Ayrıca göndericinin ilettiği bitler $\\dfrac{2}{5}$  olasılıkla 0 değerini almaktadır.  Alıcı 11 bitlerini aldığına göre göndericinin 00 bitlerini gönderme olasılığı kaçtır? \n",
        "\n",
        "\n",
        "**Çözüm:** Kanal üzerinden 2 bit gönderildiğine göre alıcı ver göndericinin elindeki bitler  {00,01,10,11} şeklinde olabilir. Olay kümelerini tanımlarsak\n",
        "\n",
        "$ Gönderici = \\{G_0, G_1, G_2,G_3\\}$\n",
        "\n",
        "$ Alıcı = \\{A_0, A_1, A_2,A_3\\}$\n",
        "\n",
        "$ G_0 = A_0 = 00$\n",
        "\n",
        "$ G_1 = A_1 = 01$\n",
        "\n",
        "$ G_2 = A_2 = 10$\n",
        "\n",
        "$ G_3 = A_3 = 11$\n",
        "\n",
        "şeklinde oluşturabiliriz.\n",
        "\n",
        "Öncelikle alıcının 11 bitlerini alma olasılığını hesaplayalım.  \n",
        "$P(A_3) = P(A_3\\cap G_0) + P(A_3\\cap G_1) + P(A_3\\cap G_2) + P(A_3\\cap G_3)$\n",
        "\n",
        "\n",
        "$P(A_3) = P(A_3|G_0)P(G_0) + P(A_3|G_1)P(G_1) + P(A_3|G_2)P(G_2) + P(A_3|G_3)P(G_3)$\n",
        "\n",
        "Gönderici 00 bitlerini gönderdiğinde alıcının 11 bitlerini alma olılığını hesaplayım. Bunun için iki bitinde değişme olasılığını bulmamız gerekir. Bir bitin değişme olasılığı $\\dfrac{1}{4}$ ise değişmeme olasılığı\n",
        "$1-\\dfrac{1}{4} = \\dfrac{3}{4}$ olarek elde edilir.\n",
        "\n",
        "$P(A_3|G_0) = \\dfrac{1}{4}*\\dfrac{1}{4} = \\dfrac{1}{16}$\n",
        "\n",
        "Aynı şekilde diper durumlarıda hesaplarsak;\n",
        "\n",
        "$P(A_3|G_1) = \\dfrac{1}{4}*\\dfrac{3}{4} = \\dfrac{3}{16}$\n",
        "\n",
        "$P(A_3|G_2) = \\dfrac{3}{4}*\\dfrac{1}{4} = \\dfrac{3}{16}$\n",
        "\n",
        "$P(A_3|G_3) = \\dfrac{3}{4}*\\dfrac{3}{4} = \\dfrac{9}{16}$\n",
        "\n",
        "değerlerini elde ederiz.\n",
        "\n",
        "Göndericinin 00 bitlerini gönderme olasılığını bulmak için bitlerin 00 olmas olasılını bulamamız gerekir. Bir bitin 0 olma olasığı $\\dfrac{2}{5}$ ise 1 olma olasılığı $1-\\dfrac{2}{5} = \\dfrac{3}{5}$'tir. \n",
        "$P(G_0)=\\dfrac{2}{5}*\\dfrac{2}{5} = \\dfrac{4}{25}$\n",
        "\n",
        "Diğer bitlerin üretilme olasılıkları;\n",
        "\n",
        "$P(G_1)=\\dfrac{2}{5}*\\dfrac{3}{5} = \\dfrac{6}{25}$\n",
        "\n",
        "$P(G_2)=\\dfrac{3}{5}*\\dfrac{2}{5} = \\dfrac{6}{25}$\n",
        "\n",
        "$P(G_3)=\\dfrac{3}{5}*\\dfrac{3}{5} = \\dfrac{9}{25}$\n",
        "\n",
        "Böylece \n",
        "\n",
        "$P(A_3)=\\dfrac{1}{16}*\\dfrac{4}{25} + \\dfrac{3}{16}*\\dfrac{6}{25} + \\dfrac{3}{16}*\\dfrac{6}{25} + \\dfrac{9}{16}*\\dfrac{9}{25} = 0,3025 $ elde ederiz.\n",
        "\n",
        "\n",
        "\n",
        "Alıcı 11 bitlerini aldığına göre göndericinin 00 bitlerini gönderme olasılığı;\n",
        "\n",
        "\n",
        "$P(G_0|A_3)=\\dfrac{P(A_3|G_0)*P(G_0)}{P(A_3)}$\n",
        "\n",
        "$P(G_0|A_3)=\\dfrac{\\dfrac{1}{16}*\\dfrac{4}{25}}{0,3025} = 0.0597$"
      ]
    },
    {
      "cell_type": "code",
      "metadata": {
        "id": "WCq2D-zgRq2X",
        "colab_type": "code",
        "outputId": "dc37a7ab-8414-45a8-91df-cfb972ab0ad9",
        "colab": {
          "base_uri": "https://localhost:8080/",
          "height": 34
        }
      },
      "source": [
        "#Göndericinin gelebilecek sinyallerin olsılığı P_0_gelme bitin sıfıt gelme olasılığına göre hesaplanır.\n",
        "def P_sinayl_uretme(gonderici_sinyal,P_0_gelme):\n",
        "  P_gonderici_sinyal= {}\n",
        "  for key in gonderici_sinyal:\n",
        "    prob = 1\n",
        "    for i in gonderici_sinyal[key]:\n",
        "      if i == '0':\n",
        "        prob *= P_0_gelme # bit 0 olduğunda sinyal olasılığı\n",
        "      else:\n",
        "        prob *= (1 - P_0_gelme) # bit 1 olduğunda sinyal olaslığı\n",
        "    P_gonderici_sinyal[key] = prob\n",
        "  \n",
        "  return P_gonderici_sinyal\n",
        "\n",
        "\n",
        "# Göndericiden gelen \"g_sinyal\" sinyaline  göre alıcının \"a_sinyal\" alma koşull olasılığı\n",
        "def P_alici_gondericiKosul(a_sinyal, g_sinyal, P_bit_degisme):\n",
        "  degismeyen_bit_s = len((set(a_sinyal)&set(g_sinyal))) # Değişmeyen bit sayısı\n",
        "  sinyal_bit_s = len(a_sinyal) # sinyal bit sayısı\n",
        "  # \"sinyal_bit_s - degismeyen_bit_s\" değişen bit sayısı\n",
        "  prob = (P_bit_degisme ** (sinyal_bit_s - degismeyen_bit_s)) * ((1 - P_bit_degisme) ** degismeyen_bit_s)\n",
        "  \n",
        "  return prob\n",
        "\n",
        "alici = {'a_0':'00', 'a_1':'01','a_2':'10', 'a_3':'11'} # Göndericinin üretebileceği 2 bitlik sinyaller\n",
        "gonderici = {'g_0':'00', 'g_1':'01', 'g_2':'10', 'g_3':'11'} # Alıcının alabileceği sinyaller\n",
        "\n",
        "\n",
        "P_bit_degisme = 1/4\n",
        "P_0_gelme = 2/5\n",
        "\n",
        "\n",
        "P_gonderici_sinyal = P_sinayl_uretme(gonderici, P_0_gelme) # Göndericinin üretebileceği 2 bitlik sinyallerin olasılığı\n",
        "\n",
        "\n",
        "P_a_sinyal = 0 # Alıcıya \"11\" sinyalinin gelme olaslığı\n",
        "for key in P_gonderici_sinyal:\n",
        "  P_a_sinyal +=  P_alici_gondericiKosul(alici['a_3'], gonderici[key], P_bit_degisme) * P_gonderici_sinyal[key] # P(a_sinyal|g_i_sinyal)P(g_i_sinyal)\n",
        "\n",
        "# Alıcı '11' bitlerini aldığı bilindiğine göre göndericinin '00' bitlerini gönderme olasılığı\n",
        "P_kosul_a_b =  P_alici_gondericiKosul(alici['a_3'], gonderici['g_0'], P_bit_degisme)     #P(11|00)\n",
        "sonuc = (P_kosul_a_b * P_gonderici_sinyal['g_0']) / P_a_sinyal\n",
        "\n",
        "print('Sonuc : %.4f'%sonuc)"
      ],
      "execution_count": 0,
      "outputs": [
        {
          "output_type": "stream",
          "text": [
            "Sonuc : 0.0597\n"
          ],
          "name": "stdout"
        }
      ]
    }
  ]
}