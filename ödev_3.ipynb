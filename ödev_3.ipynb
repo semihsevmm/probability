{
  "nbformat": 4,
  "nbformat_minor": 0,
  "metadata": {
    "colab": {
      "name": "ödev_3.ipynb",
      "provenance": [],
      "authorship_tag": "ABX9TyMgDbLgMOwXqhLWSFbxXmhM",
      "include_colab_link": true
    },
    "kernelspec": {
      "name": "python3",
      "display_name": "Python 3"
    }
  },
  "cells": [
    {
      "cell_type": "markdown",
      "metadata": {
        "id": "view-in-github",
        "colab_type": "text"
      },
      "source": [
        "<a href=\"https://colab.research.google.com/github/semihsevmm/probability/blob/master/%C3%B6dev_3.ipynb\" target=\"_parent\"><img src=\"https://colab.research.google.com/assets/colab-badge.svg\" alt=\"Open In Colab\"/></a>"
      ]
    },
    {
      "cell_type": "markdown",
      "metadata": {
        "id": "p87Xt8e6ChME",
        "colab_type": "text"
      },
      "source": [
        "##Semih Sevim 196112005\n",
        "\n",
        "**Problem 1:** Bir editör kontrol ettiği metinlerde %10 olasıkla yazım yanlışı bulmaktadır. Editörün herhangi bir metin içerisinde kontrol ettiği 20 kelimeden \n",
        "7'sinin yanlış olma olasığı kaçtır?\n",
        "\n",
        "**Çözüm:**  P= $0.1$ olasılık ile kelimeler yanlış yazılmıştır. \n",
        "$n = 20$ kelime içerisinde\n",
        "$k = 7$ 'unun yanlış yazılma olasığılı;\n",
        "\n",
        "$P(Yanlış = k) = {n\\choose k} p^k(1-p)^{n-k} = {20\\choose 7} (0.1)^{7}(1-0.1)^{20-7} = 0.00197$\n",
        "\n",
        "\n",
        "\n"
      ]
    },
    {
      "cell_type": "code",
      "metadata": {
        "id": "-vTh10UXCiPl",
        "colab_type": "code",
        "colab": {
          "base_uri": "https://localhost:8080/",
          "height": 34
        },
        "outputId": "04d79a10-5f3b-4cba-ea49-44b001c54631"
      },
      "source": [
        "def faktoriyel(n):\n",
        "  f = 1\n",
        "  for i in range(1,n+1):\n",
        "    f*=i\n",
        "  return f\n",
        "\n",
        "def kombinasyon(n,k):\n",
        "  return faktoriyel(n)/(faktoriyel(k)*faktoriyel(n-k))\n",
        "\n",
        "def Binomial(n,k,p):\n",
        "  return kombinasyon(n, k)*(p**k)*((1-p)**(n-k))\n",
        "\n",
        "t_kelime = 20 # incelenen toplam kelime sayısı\n",
        "y_kelime = 7 # yanlış yazılması beklenen kelime sayısı\n",
        "p = 0.1 # kelimenin yanlış yazılma olasılığı\n",
        "\n",
        "P_7 = Binomial(t_kelime, y_kelime, p) # 7 kelimenin yanlış yazılma olasılığı\n",
        "\n",
        "print('7 kelimenin yanlış yazılma olasılığı : %.5f'%P_7)"
      ],
      "execution_count": 18,
      "outputs": [
        {
          "output_type": "stream",
          "text": [
            "7 kelimenin yanlış yazılma olasılığı : 0.00197\n"
          ],
          "name": "stdout"
        }
      ]
    },
    {
      "cell_type": "markdown",
      "metadata": {
        "id": "bYjZ_DdWCizd",
        "colab_type": "text"
      },
      "source": [
        "**Problem 2:** Bir ATM yazılımındaki bir bug nedeniyle yapılan 60 işlemden 5'ini gerçekleştirememektedir. Gerçekleştirilen 17 işlemden 3'ünün gerçekleşmeme olasılığı kaçtır?\n",
        "\n",
        "\n",
        "**Çözüm:** ATM $P =\\frac{5}{60}$ olasılıkla yanlış işlem gerçekleştirmektedir. Gerçekleştirilen  n = 17 işlemin beklene değeri hesapnırsa;\n",
        "\n",
        "$E[X]=\\lambda = np = 17*\\frac{5}{12}$\n",
        "\n",
        "Yapılan işlemlerin k = 3'ünün hatalı olma olasılığı;\n",
        "\n",
        "$P(X=k) = \\frac{\\lambda^k}{k!}e^{-\\lambda}$\n",
        "\n",
        "$$P(X=3)= \\frac{17*\\frac{5}{12}^3}{3!}e^{-17*\\frac{5}{12}}=0.1869195312$$"
      ]
    },
    {
      "cell_type": "code",
      "metadata": {
        "id": "5VksZ-EtCaqZ",
        "colab_type": "code",
        "colab": {
          "base_uri": "https://localhost:8080/",
          "height": 34
        },
        "outputId": "5d47fc25-e76b-47c5-9484-c677dd46ec3b"
      },
      "source": [
        "import math\n",
        "\n",
        "def faktoriyel(n):\n",
        "  f = 1\n",
        "  for i in range(1,n+1):\n",
        "    f*=i\n",
        "  return f\n",
        "\n",
        "def Poisson(n, k, p):\n",
        "  lamda = n * p\n",
        "\n",
        "  return ((lamda**k)/(faktoriyel(k))) * math.exp(-lamda)\n",
        "\n",
        "islem = 50 # işlem sayısı\n",
        "h_islem = 3 # hatalı işlem sayısı\n",
        "p = 5/60 # hatalı işlem gerçekleştirme olaslığı\n",
        "\n",
        "P_3 = Poisson(islem, h_islem, p) # 3 işlemin hatalı olma olasılığı\n",
        "\n",
        "print('3 işlemin hatalı olma olasılığı : %.10f'%P_3)"
      ],
      "execution_count": 20,
      "outputs": [
        {
          "output_type": "stream",
          "text": [
            "3 işlemin hatalı olma olasılığı : 0.1869195312\n"
          ],
          "name": "stdout"
        }
      ]
    },
    {
      "cell_type": "code",
      "metadata": {
        "id": "CyH_ia5iV_M5",
        "colab_type": "code",
        "colab": {}
      },
      "source": [
        ""
      ],
      "execution_count": 0,
      "outputs": []
    }
  ]
}